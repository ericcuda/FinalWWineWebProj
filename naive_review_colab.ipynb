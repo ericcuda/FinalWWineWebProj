{
 "cells": [
  {
   "cell_type": "code",
   "execution_count": 1,
   "metadata": {},
   "outputs": [],
   "source": [
    "import os\n",
    "\n",
    "def gen_pyspark_submit_args(packages, jars):\n",
    "    submit_args = \"\"\n",
    "    if len(packages):\n",
    "        submit_args += ' --packages '\n",
    "        submit_args += \",\".join(packages)\n",
    "    if len(jars):\n",
    "        submit_args += ' --jars '\n",
    "        submit_args += \",\".join(jars)\n",
    "    if submit_args == \"\":\n",
    "        return None\n",
    "    return submit_args + \" pyspark-shell\"\n",
    "\n",
    "def pyspark_submit_args(packages, jars):\n",
    "    args = gen_pyspark_submit_args(packages, jars)\n",
    "    print(args)\n",
    "    os.environ['PYSPARK_SUBMIT_ARGS'] = args"
   ]
  },
  {
   "cell_type": "code",
   "execution_count": 3,
   "metadata": {},
   "outputs": [
    {
     "name": "stdout",
     "output_type": "stream",
     "text": [
      "/home/jovyan/work\r\n"
     ]
    }
   ],
   "source": [
    "!pwd"
   ]
  },
  {
   "cell_type": "code",
   "execution_count": 4,
   "metadata": {},
   "outputs": [
    {
     "name": "stdout",
     "output_type": "stream",
     "text": [
      " --packages io.delta:delta-core_2.11:0.2.0 pyspark-shell\n"
     ]
    }
   ],
   "source": [
    "### Add java/python dependencies\n",
    "\n",
    "jar_dir = \"/home/jovyan/work/extra_jars\"\n",
    "packages = [\n",
    "    \"io.delta:delta-core_2.11:0.2.0\"\n",
    "]\n",
    "jars = [\n",
    "]\n",
    "pyspark_submit_args(packages, jars)\n",
    "#!pip install -qr requirements.txt"
   ]
  },
  {
   "cell_type": "code",
   "execution_count": 5,
   "metadata": {},
   "outputs": [
    {
     "name": "stdout",
     "output_type": "stream",
     "text": [
      "ml_models\t\t  original_data  README.md  scraping\r\n",
      "naive_review_colab.ipynb  output_data\t Resources  transform\r\n"
     ]
    }
   ],
   "source": [
    "!ls "
   ]
  },
  {
   "cell_type": "code",
   "execution_count": 6,
   "metadata": {
    "colab": {},
    "colab_type": "code",
    "id": "LS9tTt7UKQem"
   },
   "outputs": [],
   "source": [
    "from pyspark.sql import SparkSession\n",
    "spark = SparkSession \\\n",
    "    .builder \\\n",
    "    .appName(\"activity_8\") \\\n",
    "    .getOrCreate()"
   ]
  },
  {
   "cell_type": "code",
   "execution_count": 7,
   "metadata": {
    "colab": {
     "base_uri": "https://localhost:8080/",
     "height": 459
    },
    "colab_type": "code",
    "id": "E46kq7cFKNMp",
    "outputId": "8cce3d9f-a87b-4486-a805-a6c22109fb6d"
   },
   "outputs": [
    {
     "name": "stdout",
     "output_type": "stream",
     "text": [
      "+--------+--------------------+\n",
      "|   class|                text|\n",
      "+--------+--------------------+\n",
      "|positive|Wow... Loved this...|\n",
      "|negative|  Crust is not good.|\n",
      "|negative|Not tasty and the...|\n",
      "|positive|Stopped by during...|\n",
      "|positive|The selection on ...|\n",
      "|negative|Now I am getting ...|\n",
      "|negative|Honeslty it didn'...|\n",
      "|negative|The potatoes were...|\n",
      "|positive|The fries were gr...|\n",
      "|positive|      A great touch.|\n",
      "|positive|Service was very ...|\n",
      "|negative|  Would not go back.|\n",
      "|negative|The cashier had n...|\n",
      "|positive|I tried the Cape ...|\n",
      "|negative|I was disgusted b...|\n",
      "|negative|I was shocked bec...|\n",
      "|positive| Highly recommended.|\n",
      "|negative|Waitress was a li...|\n",
      "|negative|This place is not...|\n",
      "|negative|did not like at all.|\n",
      "+--------+--------------------+\n",
      "only showing top 20 rows\n",
      "\n"
     ]
    }
   ],
   "source": [
    "# Read in data from S3 Buckets\n",
    "from pyspark import SparkFiles\n",
    "url =\"https://s3.amazonaws.com/dataviz-curriculum/day_2/yelp_reviews.csv\"\n",
    "spark.sparkContext.addFile(url)\n",
    "df = spark.read.csv(SparkFiles.get(\"yelp_reviews.csv\"), sep=\",\", header=True)\n",
    "\n",
    "# Show DataFrame\n",
    "df.show()"
   ]
  },
  {
   "cell_type": "code",
   "execution_count": 8,
   "metadata": {
    "colab": {
     "base_uri": "https://localhost:8080/",
     "height": 459
    },
    "colab_type": "code",
    "id": "0_ejg07LKNMs",
    "outputId": "a850e2c7-39c2-464e-f277-80fe563b0a51"
   },
   "outputs": [
    {
     "name": "stdout",
     "output_type": "stream",
     "text": [
      "+--------+--------------------+------+\n",
      "|   class|                text|length|\n",
      "+--------+--------------------+------+\n",
      "|positive|Wow... Loved this...|    24|\n",
      "|negative|  Crust is not good.|    18|\n",
      "|negative|Not tasty and the...|    41|\n",
      "|positive|Stopped by during...|    87|\n",
      "|positive|The selection on ...|    59|\n",
      "|negative|Now I am getting ...|    46|\n",
      "|negative|Honeslty it didn'...|    37|\n",
      "|negative|The potatoes were...|   111|\n",
      "|positive|The fries were gr...|    25|\n",
      "|positive|      A great touch.|    14|\n",
      "|positive|Service was very ...|    24|\n",
      "|negative|  Would not go back.|    18|\n",
      "|negative|The cashier had n...|    99|\n",
      "|positive|I tried the Cape ...|    59|\n",
      "|negative|I was disgusted b...|    62|\n",
      "|negative|I was shocked bec...|    50|\n",
      "|positive| Highly recommended.|    19|\n",
      "|negative|Waitress was a li...|    38|\n",
      "|negative|This place is not...|    51|\n",
      "|negative|did not like at all.|    20|\n",
      "+--------+--------------------+------+\n",
      "only showing top 20 rows\n",
      "\n"
     ]
    }
   ],
   "source": [
    "from pyspark.sql.functions import length\n",
    "# Create a length column to be used as a future feature \n",
    "data_df = df.withColumn('length', length(df['text']))\n",
    "data_df.show()"
   ]
  },
  {
   "cell_type": "markdown",
   "metadata": {
    "colab_type": "text",
    "id": "Ph2OnGe5KNMv"
   },
   "source": [
    "### Feature Transformations\n"
   ]
  },
  {
   "cell_type": "code",
   "execution_count": 9,
   "metadata": {
    "colab": {},
    "colab_type": "code",
    "id": "CT2XZfe8KNMw"
   },
   "outputs": [],
   "source": [
    "from pyspark.ml.feature import Tokenizer, StopWordsRemover, HashingTF, IDF, StringIndexer\n",
    "# Create all the features to the data set\n",
    "pos_neg_to_num = StringIndexer(inputCol='class',outputCol='label')\n",
    "tokenizer = Tokenizer(inputCol=\"text\", outputCol=\"token_text\")\n",
    "stopremove = StopWordsRemover(inputCol='token_text',outputCol='stop_tokens')\n",
    "hashingTF = HashingTF(inputCol=\"token_text\", outputCol='hash_token')\n",
    "idf = IDF(inputCol='hash_token', outputCol='idf_token')\n"
   ]
  },
  {
   "cell_type": "code",
   "execution_count": 10,
   "metadata": {
    "colab": {},
    "colab_type": "code",
    "id": "17tXmqkgKNMy"
   },
   "outputs": [],
   "source": [
    "from pyspark.ml.feature import VectorAssembler\n",
    "from pyspark.ml.linalg import Vector\n",
    "\n",
    "# Create feature vectors\n",
    "clean_up = VectorAssembler(inputCols=['idf_token', 'length'], outputCol='features')"
   ]
  },
  {
   "cell_type": "code",
   "execution_count": 11,
   "metadata": {},
   "outputs": [
    {
     "name": "stdout",
     "output_type": "stream",
     "text": [
      "VectorAssembler_816534d70524\n"
     ]
    }
   ],
   "source": [
    "print(clean_up)"
   ]
  },
  {
   "cell_type": "code",
   "execution_count": 11,
   "metadata": {
    "colab": {},
    "colab_type": "code",
    "id": "UOwrwVFxKNM0"
   },
   "outputs": [],
   "source": [
    "# Create a and run a data processing Pipeline\n",
    "from pyspark.ml import Pipeline\n",
    "data_prep_pipeline = Pipeline(stages=[pos_neg_to_num, tokenizer, stopremove, hashingTF, idf, clean_up])"
   ]
  },
  {
   "cell_type": "code",
   "execution_count": 12,
   "metadata": {
    "colab": {},
    "colab_type": "code",
    "id": "1lvuaNxSKNM2"
   },
   "outputs": [],
   "source": [
    "# Fit and transform the pipeline\n",
    "cleaner = data_prep_pipeline.fit(data_df)\n",
    "cleaned = cleaner.transform(data_df)"
   ]
  },
  {
   "cell_type": "code",
   "execution_count": 13,
   "metadata": {
    "colab": {
     "base_uri": "https://localhost:8080/",
     "height": 459
    },
    "colab_type": "code",
    "id": "N_y6KA9HKNM4",
    "outputId": "3e5dbfb0-af04-470f-d298-7d2d9b9db2d0"
   },
   "outputs": [
    {
     "name": "stdout",
     "output_type": "stream",
     "text": [
      "+-----+--------------------+\n",
      "|label|            features|\n",
      "+-----+--------------------+\n",
      "|  0.0|(262145,[33933,69...|\n",
      "|  1.0|(262145,[15889,13...|\n",
      "|  1.0|(262145,[25570,63...|\n",
      "|  0.0|(262145,[6286,272...|\n",
      "|  0.0|(262145,[6979,255...|\n",
      "|  1.0|(262145,[24417,24...|\n",
      "|  1.0|(262145,[12084,48...|\n",
      "|  1.0|(262145,[3645,963...|\n",
      "|  0.0|(262145,[53777,10...|\n",
      "|  0.0|(262145,[138356,2...|\n",
      "|  0.0|(262145,[24113,25...|\n",
      "|  1.0|(262145,[68867,13...|\n",
      "|  1.0|(262145,[24417,36...|\n",
      "|  0.0|(262145,[18098,24...|\n",
      "|  1.0|(262145,[24417,25...|\n",
      "|  1.0|(262145,[24417,25...|\n",
      "|  0.0|(262145,[31704,21...|\n",
      "|  1.0|(262145,[25570,27...|\n",
      "|  1.0|(262145,[12329,15...|\n",
      "|  1.0|(262145,[8287,139...|\n",
      "+-----+--------------------+\n",
      "only showing top 20 rows\n",
      "\n"
     ]
    }
   ],
   "source": [
    "# Show label and resulting features\n",
    "cleaned.select(['label', 'features']).show()"
   ]
  },
  {
   "cell_type": "code",
   "execution_count": 14,
   "metadata": {
    "colab": {},
    "colab_type": "code",
    "id": "FO-SXuUdKNM6"
   },
   "outputs": [],
   "source": [
    "from pyspark.ml.classification import NaiveBayes\n",
    "# Break data down into a training set and a testing set\n",
    "training, testing = cleaned.randomSplit([0.7, 0.3])\n",
    "\n",
    "# Create a Naive Bayes model and fit training data\n",
    "nb = NaiveBayes()\n",
    "predictor = nb.fit(training)"
   ]
  },
  {
   "cell_type": "code",
   "execution_count": 15,
   "metadata": {
    "colab": {
     "base_uri": "https://localhost:8080/",
     "height": 224
    },
    "colab_type": "code",
    "id": "KGovCyH9KNM8",
    "outputId": "b00a58ae-8e21-472f-a628-8993a78c96e3"
   },
   "outputs": [
    {
     "name": "stdout",
     "output_type": "stream",
     "text": [
      "+--------+--------------------+------+-----+--------------------+--------------------+--------------------+--------------------+--------------------+--------------------+--------------------+----------+\n",
      "|   class|                text|length|label|          token_text|         stop_tokens|          hash_token|           idf_token|            features|       rawPrediction|         probability|prediction|\n",
      "+--------+--------------------+------+-----+--------------------+--------------------+--------------------+--------------------+--------------------+--------------------+--------------------+----------+\n",
      "|negative|\"It was extremely...|    51|  1.0|[\"it, was, extrem...|[\"it, extremely, ...|(262144,[7388,255...|(262144,[7388,255...|(262145,[7388,255...|[-495.91224687058...|[1.29560720177271...|       1.0|\n",
      "|negative|(It wasn't busy e...|    61|  1.0|[(it, wasn't, bus...|[(it, busy, eithe...|(262144,[329,2101...|(262144,[329,2101...|(262145,[329,2101...|[-758.60084678779...|[1.41288422740158...|       1.0|\n",
      "|negative|2 times - Very Ba...|    37|  1.0|[2, times, -, ver...|[2, times, -, bad...|(262144,[24113,28...|(262144,[24113,28...|(262145,[24113,28...|[-460.07344872587...|[3.90859749601761...|       1.0|\n",
      "|negative|A lady at the tab...|    75|  1.0|[a, lady, at, the...|[lady, table, nex...|(262144,[21872,33...|(262144,[21872,33...|(262145,[21872,33...|[-894.99197679077...|[1.48881266242467...|       1.0|\n",
      "|negative|After 20 minutes ...|    37|  1.0|[after, 20, minut...|[20, minutes, wai...|(262144,[24417,31...|(262144,[24417,31...|(262145,[24417,31...|[-461.23369161517...|[1.29729405563395...|       1.0|\n",
      "+--------+--------------------+------+-----+--------------------+--------------------+--------------------+--------------------+--------------------+--------------------+--------------------+----------+\n",
      "only showing top 5 rows\n",
      "\n"
     ]
    }
   ],
   "source": [
    "# Tranform the model with the testing data\n",
    "test_results = predictor.transform(testing)\n",
    "test_results.show(5)"
   ]
  },
  {
   "cell_type": "code",
   "execution_count": 16,
   "metadata": {
    "colab": {
     "base_uri": "https://localhost:8080/",
     "height": 34
    },
    "colab_type": "code",
    "id": "6Pj1bepEKNNA",
    "outputId": "d2860a56-29ce-4bf1-9aa4-ed127f672a09"
   },
   "outputs": [
    {
     "name": "stdout",
     "output_type": "stream",
     "text": [
      "Accuracy of model at predicting reviews was: 0.648671\n"
     ]
    }
   ],
   "source": [
    "# Use the Class Evaluator for a cleaner description\n",
    "from pyspark.ml.evaluation import MulticlassClassificationEvaluator\n",
    "\n",
    "acc_eval = MulticlassClassificationEvaluator()\n",
    "acc = acc_eval.evaluate(test_results)\n",
    "print(\"Accuracy of model at predicting reviews was: %f\" % acc)"
   ]
  },
  {
   "cell_type": "code",
   "execution_count": null,
   "metadata": {
    "colab": {},
    "colab_type": "code",
    "id": "hygCwnVLKnqD"
   },
   "outputs": [],
   "source": []
  }
 ],
 "metadata": {
  "colab": {
   "name": "naive_review_colab.ipynb",
   "provenance": [],
   "version": "0.3.2"
  },
  "kernelspec": {
   "display_name": "Python 3",
   "language": "python",
   "name": "python3"
  },
  "language_info": {
   "codemirror_mode": {
    "name": "ipython",
    "version": 3
   },
   "file_extension": ".py",
   "mimetype": "text/x-python",
   "name": "python",
   "nbconvert_exporter": "python",
   "pygments_lexer": "ipython3",
   "version": "3.7.3"
  }
 },
 "nbformat": 4,
 "nbformat_minor": 1
}
